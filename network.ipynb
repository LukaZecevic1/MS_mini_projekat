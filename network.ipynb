{
 "cells": [
  {
   "cell_type": "markdown",
   "metadata": {},
   "source": [
    "The programm uses a competitive hopfield neural network to segment the image shown in the provided papers [(1)](https://www.researchgate.net/publication/262363260_Segmentation_of_industrial_X-ray_images) [(2)](https://www.researchgate.net/publication/3220680_Application_of_competitive_Hopfield_neural_network_to_medical_image_segmentation)\n",
    "\n",
    "A hopfield neural network minimizes it's energy function $E=-\\sum_{i=1}^N\\sum_{j=1}^N w_{ij} v_i v_j - \\sum_{i=1}^n I_i v_i$\n",
    "\n",
    "Gray levels in the same segment have to be similar in relative frequency in the image and color. Adjacent segments should have significant differences in frequency. By minimizing these distances within segments we get to a solution for the segmentation.\n",
    "\n",
    "Relative frequency is measured with the histogram H and color similarity with euclidian distance $DIS_{x,y} = (G_x-G_y)^2$\n",
    "\n",
    "If the weights are represented as:\n",
    "$w_{x,i;y,i}=-\\frac{H_y V_{y,i}}{\\sum_{y=1}^n H_y * V_{y,i}}V_{x,i} DIS_{x,y}$\n",
    "\n",
    "The energy function can be then calculated as:\n",
    "$E=\\sum_{x=1}^n\\sum_{y=1}^n\\sum_{i=1}^c\\frac{H_y * V_{y,i}}{\\sum_{y=1}^n H_y * V_{y,i}} DIS_{x,y}$\n",
    "\n",
    "Neurons that have similar gray-levels and frequencies are more likley to be grouped together\n",
    "\n",
    "To ensure that each gray level belongs to only 1 class a \"Winner take all\" strategy is implemented. The maximum neuron in\n",
    "a row the wins and is assigned 1 and all others are assigned 0. And there is no bias so $I_{x}=0$ always holds\n",
    "\n",
    "The matrix V contains c classes each with n neurons\n",
    "$$\n",
    "\\begin{matrix}\n",
    "Class\\ 1 & Class\\ 2 & \\dots & Class\\ c & \\\\\n",
    "Net_{1,1} & Net_{1,2} & \\dots & Net_{1,c} & \\text{gray-level 1}\\\\\n",
    "Net_{2,1} & Net_{2,2} & \\dots  & Net_{2,c} & \\text{gray-level 2}\\\\\n",
    "\\dots & \\dots & \\dots  & \\dots\\\\\n",
    "Net_{n,1} & Net_{n,2} & \\dots  & Net_{n,c} & \\text{gray-level n}\n",
    "\\end{matrix}\n",
    "$$\n",
    "\n",
    "1. Input the gray levels of n (colors of the image, n = 256 for 8bit images), $G = \\set{g_1, g_2, \\dots, g_n}$ and the number of classes in the image c\n",
    "2. Compute the DIS matrix and histogram H\n",
    "\n",
    "    The distance matrix is calculated as the euclidian distance between gray-levels $DIS_{x,y} = (g_x - g_y)^2$\n",
    "3. Calculate the total input of each neuron in a row x\n",
    "$$\n",
    "Net_{x,i}=-\\frac{1}{\\sum_{y=1}^n H_y * V_{y,i}} \\sum_{y=1}^n DIS_{x,y} * H_y * V_{y,i}\n",
    "$$\n",
    "4. Apply the winner takes all learning scheme on the row x\n",
    "5. Repeat 3. and 4. for all rows. If there are no changed neurons, the final state of the neurons indicates the gray levels being assigned to classes. Otherwise return to step 3"
   ]
  },
  {
   "cell_type": "code",
   "execution_count": 1,
   "metadata": {},
   "outputs": [],
   "source": [
    "# imports\n",
    "import numpy as np\n",
    "from PIL import Image # For showing images in the notebook\n",
    "import cv2 # read/write images, treshold, highlight\n",
    "from tqdm.notebook import tqdm # Progress bar"
   ]
  },
  {
   "cell_type": "code",
   "execution_count": 2,
   "metadata": {},
   "outputs": [],
   "source": [
    "# Classes (splits image into c colors)\n",
    "c = 4\n",
    "# Grey-levels (number of colors to be segmented, that get turned into neurons)\n",
    "n = 256"
   ]
  },
  {
   "cell_type": "code",
   "execution_count": 3,
   "metadata": {},
   "outputs": [],
   "source": [
    "# Loading images\n",
    "\n",
    "# From .tiff\n",
    "le = cv2.imread('LE.tif', cv2.IMREAD_ANYDEPTH)\n",
    "he = cv2.imread('HE.tif', cv2.IMREAD_ANYDEPTH)\n",
    "\n",
    "# le = cv2.imread('LE_clear_test.tif', 0)\n",
    "# he = cv2.imread('LE_clear_test.tif', 0)\n",
    "\n",
    "# From .csv\n",
    "# le = np.genfromtxt('LE.csv', delimiter=',', skip_header=True)\n",
    "# he = np.genfromtxt('HE.csv', delimiter=',', skip_header=True)\n",
    "\n",
    "n = min(n, le.max()+1) # no need to use n bigger than the highest grey-value. Grey values can only be integers\n",
    "\n",
    "le = cv2.normalize(le, None, 0, n-1, cv2.NORM_MINMAX).astype(np.uint) # some tiff files must be normalized (csv file values are [0-922.09])\n",
    "he = cv2.normalize(he, None, 0, n-1, cv2.NORM_MINMAX).astype(np.uint)"
   ]
  },
  {
   "cell_type": "code",
   "execution_count": 4,
   "metadata": {},
   "outputs": [],
   "source": [
    "# Crop\n",
    "# Best results with 13 classes when cropped\n",
    "\n",
    "######### 1 ################\n",
    "# le = le[:,150:900]\n",
    "# he = he[:,150:900]\n",
    "# c = 11\n",
    "######### 1 ################\n",
    "\n",
    "\n",
    "######### 2 ################\n",
    "# def crop(imgArr):\n",
    "#     \"Crop black space on the left and right side of the image\"\n",
    "#     i=0\n",
    "#     while imgArr[0][i] == 0:\n",
    "#         i+=1\n",
    "#     imgArr = imgArr[:,i:]\n",
    "#     i = imgArr.shape[1]-1\n",
    "#     while imgArr[0][i] == 0:\n",
    "#         i-=1\n",
    "#     return imgArr[:,:i]\n",
    "\n",
    "# le = crop(le)\n",
    "# he = crop(he)\n",
    "# c = 11\n",
    "######### 2 ################"
   ]
  },
  {
   "cell_type": "code",
   "execution_count": 5,
   "metadata": {},
   "outputs": [],
   "source": [
    "# Initialise gray levels [0,n-1]\n",
    "G = np.arange(n)\n",
    "# Preprocess euclidian distances between each gray-level\n",
    "DIS = (np.tile(G, (n, 1)).transpose() - G)**2 # same as dis(x,y) := (G[x] - G[y])^2"
   ]
  },
  {
   "cell_type": "code",
   "execution_count": 6,
   "metadata": {},
   "outputs": [],
   "source": [
    "# Calc histogram of he and le gray levels\n",
    "H = np.histogram(le.flatten(), n)[0] + np.histogram(he.flatten(), n)[0]"
   ]
  },
  {
   "cell_type": "code",
   "execution_count": 7,
   "metadata": {},
   "outputs": [],
   "source": [
    "# Initializing the neural network\n",
    "\n",
    "V = np.zeros((G.size,c))\n",
    "V[:,c-1] = 1\n",
    "\n",
    "# Random network start only shuffles the final gray-level values\n",
    "# V[:,0] = 1\n",
    "# for row in V:\n",
    "#     np.random.shuffle(row)"
   ]
  },
  {
   "cell_type": "code",
   "execution_count": 8,
   "metadata": {},
   "outputs": [],
   "source": [
    "# Network functions\n",
    "\n",
    "def net(x, i):\n",
    "    \"\"\"\n",
    "    Net input to the (x,i)th neuron\n",
    "    \n",
    "    for y in range(n):\n",
    "    \n",
    "        nu += d(x,y)*H[y]*V[y][i]\n",
    "\n",
    "        de += H[y]*V[y][i]\n",
    "\n",
    "    return -nu.sum()/de.sum()\n",
    "    \"\"\"\n",
    "    nu = H*V[:,i] # numerator\n",
    "    de = nu.sum() # denominator\n",
    "    nu *= DIS[x,:]\n",
    "    # nu *= (G[x]-G[:])**2 # if DIS would be too big to fit into memory\n",
    "    return -nu.sum()/de\n",
    "\n",
    "def wta(x, active):\n",
    "    \"\"\"\n",
    "    'Winner take all'. Biggest value in row x is set to 1, all other 0\n",
    "    \n",
    "    Returns True if the active neuron changed\n",
    "    \"\"\"\n",
    "\n",
    "    m = V[x].argmax()\n",
    "\n",
    "    V[x][:] = 0\n",
    "    V[x][m] = 1\n",
    "\n",
    "    if(active != m):\n",
    "        return True\n",
    "    return False"
   ]
  },
  {
   "cell_type": "code",
   "execution_count": 9,
   "metadata": {},
   "outputs": [],
   "source": [
    "# Running the network\n",
    "\n",
    "def run_once(bar):\n",
    "    \"Update all neurons row by row. Returns True if any rows changed\"\n",
    "    changed = False\n",
    "    bar.reset()\n",
    "    for x in range(n):\n",
    "        active = V[x].argmax()\n",
    "        for i in range(c):\n",
    "            V[x][i] = net(x, i)\n",
    "        changed |= wta(x, active)\n",
    "        \n",
    "        bar.update(1)\n",
    "    \n",
    "    return changed\n",
    "def run():\n",
    "    \"Run till limit or until there are no changing neurons\"\n",
    "    # Show progress bar with tqdm\n",
    "    limit = 150\n",
    "    i = 0\n",
    "    changed = True\n",
    "    with tqdm(desc=\"Rows updated\", total=n, leave=False) as bar:\n",
    "        with tqdm(desc=\"Iterations done\", total=limit, leave=False) as pbar:\n",
    "            while changed and i<limit:\n",
    "                changed = run_once(bar) # stop early if there are no changes in network\n",
    "                # run_once(bar) # ignore early stop\n",
    "                pbar.update(1)\n",
    "                i+=1\n",
    "            # pbar.set_description(\"Processing finished\")\n",
    "            bar.update(n-bar.n)\n",
    "            pbar.update(limit-pbar.n)\n",
    "    print(\"Iterations done:\", i)"
   ]
  },
  {
   "cell_type": "code",
   "execution_count": 10,
   "metadata": {},
   "outputs": [
    {
     "data": {
      "application/vnd.jupyter.widget-view+json": {
       "model_id": "a165d821f3cd4b5591d08c17f6940b96",
       "version_major": 2,
       "version_minor": 0
      },
      "text/plain": [
       "Rows updated:   0%|          | 0/256 [00:00<?, ?it/s]"
      ]
     },
     "metadata": {},
     "output_type": "display_data"
    },
    {
     "data": {
      "application/vnd.jupyter.widget-view+json": {
       "model_id": "d63e86adbd2847f7b61f97bde0e73c2e",
       "version_major": 2,
       "version_minor": 0
      },
      "text/plain": [
       "Iterations done:   0%|          | 0/150 [00:00<?, ?it/s]"
      ]
     },
     "metadata": {},
     "output_type": "display_data"
    },
    {
     "name": "stderr",
     "output_type": "stream",
     "text": [
      "C:\\Users\\Luka\\AppData\\Local\\Temp\\ipykernel_3192\\4211373253.py:19: RuntimeWarning: invalid value encountered in double_scalars\n",
      "  return -nu.sum()/de\n"
     ]
    },
    {
     "name": "stdout",
     "output_type": "stream",
     "text": [
      "Iterations done: 6\n"
     ]
    }
   ],
   "source": [
    "run()"
   ]
  },
  {
   "cell_type": "code",
   "execution_count": 11,
   "metadata": {},
   "outputs": [
    {
     "data": {
      "image/png": "[encoded data removed]",
      "text/plain": [
       "<PIL.Image.Image image mode=L size=1200x580 at 0x14A3207E0A0>"
      ]
     },
     "execution_count": 11,
     "metadata": {},
     "output_type": "execute_result"
    }
   ],
   "source": [
    "# Show segmented image\n",
    "\n",
    "def smallestFormat(c):\n",
    "    \"Get smallest grayscale image resolution format\"\n",
    "    if c <= 2**8:\n",
    "        return (2**8, np.uint8)\n",
    "    else:\n",
    "        if(c > 2**64):\n",
    "            raise Exception(\"Too many classes to show as an image\")\n",
    "        if(c < 2**16):\n",
    "            return (2**16, np.uint16)\n",
    "        if(c < 2**32):\n",
    "            return (2**32, np.uint32)\n",
    "        return (2**64, np.uint64)\n",
    "\n",
    "outpFormatInt, outpFormatNp = smallestFormat(c)\n",
    "\n",
    "# array of c equidistant ints [0, image_resolution]\n",
    "classValue = np.arange(0,outpFormatInt-1+(outpFormatInt-1)/(c-1),(outpFormatInt-1)/(c-1)).astype(np.uint)\n",
    "\n",
    "# A map/dictionary of gray level values to the representative class color\n",
    "classified = (V*classValue).max(axis=1)\n",
    "\n",
    "# Use the map to show a segmented image\n",
    "# for each x in img returns classified[x]\n",
    "imgArr = np.take(classified, le.flatten()).reshape(le.shape)\n",
    "\n",
    "# Show image with only c colors/graylevels\n",
    "Image.fromarray(imgArr.astype(outpFormatNp))"
   ]
  },
  {
   "cell_type": "code",
   "execution_count": 12,
   "metadata": {},
   "outputs": [
    {
     "data": {
      "image/png": "[encoded data removed]",
      "text/plain": [
       "<PIL.Image.Image image mode=L size=1200x580 at 0x14A3255EDF0>"
      ]
     },
     "execution_count": 12,
     "metadata": {},
     "output_type": "execute_result"
    }
   ],
   "source": [
    "# Threshold\n",
    "\n",
    "method = cv2.THRESH_BINARY # Output white background, black segments\n",
    "# method = cv2.THRESH_BINARY_INV # Inverse\n",
    "\n",
    "_, segmented = cv2.threshold(imgArr, classValue[0], outpFormatInt-1, method)\n",
    "segmented = segmented.astype(np.uint8) # image is black and white so it's cast to the smallest int format\n",
    "\n",
    "# if the image is not cropped fills white/black margins\n",
    "# Same method as crop\n",
    "i=0\n",
    "while segmented[0][i] == 255 * method and i < le.shape[0]:\n",
    "    i+=1\n",
    "segmented[:,:i] = 255 * (not method)\n",
    "i = segmented.shape[1]-1\n",
    "while segmented[0][i] == 255*method  and i > 0:\n",
    "    i-=1\n",
    "segmented[:,i:] = 255 * (not method)\n",
    "\n",
    "cv2.imwrite(\"output.jpg\", segmented)\n",
    "# cv2.imwrite(\"output.tiff\", (segmented*2**8).astype(np.uint16))\n",
    "\n",
    "######### End of script ###############################\n",
    "\n",
    "Image.fromarray(segmented)"
   ]
  },
  {
   "cell_type": "code",
   "execution_count": 13,
   "metadata": {},
   "outputs": [
    {
     "data": {
      "image/png": "[encoded data removed]",
      "text/plain": [
       "<PIL.Image.Image image mode=L size=1200x580 at 0x14A3260BB80>"
      ]
     },
     "execution_count": 13,
     "metadata": {},
     "output_type": "execute_result"
    }
   ],
   "source": [
    "# Highlight segmented regions for easier bug fixing\n",
    "\n",
    "seg2 = segmented.copy()\n",
    "# \"255*(not method) - seg2\" needed because of weird threshold behaviour\n",
    "# when method is BINARY (0) flips seg2, when method is BINARY_INV (1) negation keeps seg2 values because it's an unsigned int\n",
    "cnts,_ = cv2.findContours(255*(not method)-seg2,cv2.RETR_EXTERNAL,cv2.CHAIN_APPROX_SIMPLE)\n",
    "seg2 = cv2.drawContours(seg2, cnts, -1, 255*method, 15)\n",
    "Image.fromarray(seg2)"
   ]
  },
  {
   "cell_type": "code",
   "execution_count": 14,
   "metadata": {},
   "outputs": [],
   "source": [
    "import matplotlib.pyplot as plt\n",
    "%matplotlib inline"
   ]
  },
  {
   "cell_type": "code",
   "execution_count": 15,
   "metadata": {},
   "outputs": [
    {
     "data": {
      "image/png": "[encoded data removed]",
      "text/plain": [
       "<Figure size 432x288 with 2 Axes>"
      ]
     },
     "metadata": {
      "needs_background": "light"
     },
     "output_type": "display_data"
    }
   ],
   "source": [
    "_, ax = plt.subplots(2, sharex=True)\n",
    "\n",
    "ax[0].hist(le.flatten(), 64)\n",
    "ax[0].set_title(\"Gray-level histogram\")\n",
    "ax[1].plot(classified)\n",
    "ax[1].set(ylabel = \"New gray-level value\", xlabel=\"Original gray-level value\")\n",
    "plt.show()"
   ]
  }
 ],
 "metadata": {
  "kernelspec": {
   "display_name": "Python 3",
   "language": "python",
   "name": "python3"
  },
  "language_info": {
   "codemirror_mode": {
    "name": "ipython",
    "version": 3
   },
   "file_extension": ".py",
   "mimetype": "text/x-python",
   "name": "python",
   "nbconvert_exporter": "python",
   "pygments_lexer": "ipython3",
   "version": "3.9.0"
  }
 },
 "nbformat": 4,
 "nbformat_minor": 2
}
